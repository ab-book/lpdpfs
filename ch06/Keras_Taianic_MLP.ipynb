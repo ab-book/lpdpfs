{
 "cells": [
  {
   "cell_type": "code",
   "execution_count": 1,
   "metadata": {
    "slideshow": {
     "slide_type": "-"
    }
   },
   "outputs": [],
   "source": [
    "import numpy;import pandas as pd\n",
    "from sklearn import preprocessing\n",
    "numpy.random.seed(10)"
   ]
  },
  {
   "cell_type": "code",
   "execution_count": 2,
   "metadata": {},
   "outputs": [],
   "source": [
    "all_df = pd.read_excel(\"titanic3.xls\")\n",
    "cols=['survived','name','pclass' ,'sex', 'age', 'sibsp',\n",
    "      'parch', 'fare', 'embarked']\n",
    "all_df=all_df[cols]"
   ]
  },
  {
   "cell_type": "code",
   "execution_count": 3,
   "metadata": {},
   "outputs": [],
   "source": [
    "msk = numpy.random.rand(len(all_df)) < 0.8\n",
    "train_df = all_df[msk];test_df = all_df[~msk]"
   ]
  },
  {
   "cell_type": "code",
   "execution_count": 4,
   "metadata": {},
   "outputs": [],
   "source": [
    "def PreprocessData(raw_df):\n",
    "    df=raw_df.drop(['name'], axis=1)\n",
    "    age_mean = df['age'].mean()\n",
    "    df['age'] = df['age'].fillna(age_mean)\n",
    "    fare_mean = df['fare'].mean()\n",
    "    df['fare'] = df['fare'].fillna(fare_mean)\n",
    "    df['sex']= df['sex'].map({'female':0, 'male': 1}).astype(int)\n",
    "    x_OneHot_df = pd.get_dummies(data=df,columns=[\"embarked\" ])\n",
    "    ndarray = x_OneHot_df.values\n",
    "    Features = ndarray[:,1:]\n",
    "    Label = ndarray[:,0]\n",
    "    minmax_scale = preprocessing.MinMaxScaler(feature_range=(0, 1))\n",
    "    scaledFeatures=minmax_scale.fit_transform(Features)    \n",
    "    return scaledFeatures,Label"
   ]
  },
  {
   "cell_type": "code",
   "execution_count": 5,
   "metadata": {},
   "outputs": [],
   "source": [
    "train_Features,train_Label=PreprocessData(train_df)\n",
    "test_Features,test_Label=PreprocessData(test_df)"
   ]
  },
  {
   "cell_type": "markdown",
   "metadata": {},
   "source": [
    "# 3. Create Model "
   ]
  },
  {
   "cell_type": "code",
   "execution_count": 6,
   "metadata": {},
   "outputs": [
    {
     "name": "stderr",
     "output_type": "stream",
     "text": [
      "Using TensorFlow backend.\n"
     ]
    },
    {
     "name": "stdout",
     "output_type": "stream",
     "text": [
      "_________________________________________________________________\n",
      "Layer (type)                 Output Shape              Param #   \n",
      "=================================================================\n",
      "dense_1 (Dense)              (None, 80)                800       \n",
      "_________________________________________________________________\n",
      "dense_2 (Dense)              (None, 60)                4860      \n",
      "_________________________________________________________________\n",
      "dense_3 (Dense)              (None, 1)                 61        \n",
      "=================================================================\n",
      "Total params: 5,721\n",
      "Trainable params: 5,721\n",
      "Non-trainable params: 0\n",
      "_________________________________________________________________\n",
      "None\n"
     ]
    }
   ],
   "source": [
    "from keras.models import Sequential\n",
    "from keras.layers import Dense,Dropout\n",
    "model = Sequential()\n",
    "model.add(Dense(units=80, input_dim=9, \n",
    "                kernel_initializer='uniform', \n",
    "                activation='relu'))\n",
    "model.add(Dense(units=60, \n",
    "                kernel_initializer='uniform', \n",
    "                activation='relu'))\n",
    "model.add(Dense(units=1, \n",
    "                kernel_initializer='uniform',\n",
    "                activation='sigmoid'))\n",
    "print(model.summary())"
   ]
  },
  {
   "cell_type": "markdown",
   "metadata": {},
   "source": [
    "# 4. Train model"
   ]
  },
  {
   "cell_type": "code",
   "execution_count": 7,
   "metadata": {},
   "outputs": [],
   "source": [
    "model.compile(loss='binary_crossentropy', \n",
    "              optimizer='adam', metrics=['accuracy'])"
   ]
  },
  {
   "cell_type": "code",
   "execution_count": 8,
   "metadata": {},
   "outputs": [
    {
     "name": "stdout",
     "output_type": "stream",
     "text": [
      "Train on 930 samples, validate on 104 samples\n",
      "Epoch 1/30\n",
      " - 0s - loss: 0.6812 - acc: 0.5882 - val_loss: 0.6160 - val_acc: 0.7885\n",
      "Epoch 2/30\n",
      " - 0s - loss: 0.6159 - acc: 0.6602 - val_loss: 0.4893 - val_acc: 0.8077\n",
      "Epoch 3/30\n",
      " - 0s - loss: 0.5342 - acc: 0.7667 - val_loss: 0.4607 - val_acc: 0.7788\n",
      "Epoch 4/30\n",
      " - 0s - loss: 0.5026 - acc: 0.7484 - val_loss: 0.4611 - val_acc: 0.7885\n",
      "Epoch 5/30\n",
      " - 0s - loss: 0.4862 - acc: 0.7656 - val_loss: 0.4534 - val_acc: 0.7885\n",
      "Epoch 6/30\n",
      " - 0s - loss: 0.4799 - acc: 0.7688 - val_loss: 0.4382 - val_acc: 0.7981\n",
      "Epoch 7/30\n",
      " - 0s - loss: 0.4736 - acc: 0.7667 - val_loss: 0.4333 - val_acc: 0.7788\n",
      "Epoch 8/30\n",
      " - 0s - loss: 0.4714 - acc: 0.7677 - val_loss: 0.4274 - val_acc: 0.7981\n",
      "Epoch 9/30\n",
      " - 0s - loss: 0.4685 - acc: 0.7731 - val_loss: 0.4239 - val_acc: 0.8077\n",
      "Epoch 10/30\n",
      " - 0s - loss: 0.4660 - acc: 0.7806 - val_loss: 0.4252 - val_acc: 0.7885\n",
      "Epoch 11/30\n",
      " - 0s - loss: 0.4610 - acc: 0.7753 - val_loss: 0.4217 - val_acc: 0.8077\n",
      "Epoch 12/30\n",
      " - 0s - loss: 0.4608 - acc: 0.7839 - val_loss: 0.4204 - val_acc: 0.8173\n",
      "Epoch 13/30\n",
      " - 0s - loss: 0.4606 - acc: 0.7828 - val_loss: 0.4259 - val_acc: 0.7885\n",
      "Epoch 14/30\n",
      " - 0s - loss: 0.4586 - acc: 0.7796 - val_loss: 0.4223 - val_acc: 0.7981\n",
      "Epoch 15/30\n",
      " - 0s - loss: 0.4612 - acc: 0.7849 - val_loss: 0.4215 - val_acc: 0.8173\n",
      "Epoch 16/30\n",
      " - 0s - loss: 0.4562 - acc: 0.7871 - val_loss: 0.4234 - val_acc: 0.8173\n",
      "Epoch 17/30\n",
      " - 0s - loss: 0.4536 - acc: 0.7860 - val_loss: 0.4235 - val_acc: 0.8173\n",
      "Epoch 18/30\n",
      " - 0s - loss: 0.4539 - acc: 0.7935 - val_loss: 0.4215 - val_acc: 0.8077\n",
      "Epoch 19/30\n",
      " - 0s - loss: 0.4526 - acc: 0.7989 - val_loss: 0.4278 - val_acc: 0.8173\n",
      "Epoch 20/30\n",
      " - 0s - loss: 0.4503 - acc: 0.7978 - val_loss: 0.4199 - val_acc: 0.8173\n",
      "Epoch 21/30\n",
      " - 0s - loss: 0.4500 - acc: 0.7892 - val_loss: 0.4215 - val_acc: 0.8173\n",
      "Epoch 22/30\n",
      " - 0s - loss: 0.4485 - acc: 0.7946 - val_loss: 0.4206 - val_acc: 0.7981\n",
      "Epoch 23/30\n",
      " - 0s - loss: 0.4545 - acc: 0.7882 - val_loss: 0.4273 - val_acc: 0.8173\n",
      "Epoch 24/30\n",
      " - 0s - loss: 0.4510 - acc: 0.7882 - val_loss: 0.4242 - val_acc: 0.8173\n",
      "Epoch 25/30\n",
      " - 0s - loss: 0.4501 - acc: 0.7882 - val_loss: 0.4333 - val_acc: 0.8173\n",
      "Epoch 26/30\n",
      " - 0s - loss: 0.4532 - acc: 0.7957 - val_loss: 0.4316 - val_acc: 0.8173\n",
      "Epoch 27/30\n",
      " - 0s - loss: 0.4458 - acc: 0.7935 - val_loss: 0.4203 - val_acc: 0.7981\n",
      "Epoch 28/30\n",
      " - 0s - loss: 0.4525 - acc: 0.7839 - val_loss: 0.4195 - val_acc: 0.7981\n",
      "Epoch 29/30\n",
      " - 0s - loss: 0.4454 - acc: 0.7957 - val_loss: 0.4216 - val_acc: 0.8173\n",
      "Epoch 30/30\n",
      " - 0s - loss: 0.4555 - acc: 0.7935 - val_loss: 0.4254 - val_acc: 0.8173\n"
     ]
    }
   ],
   "source": [
    "train_history =model.fit(x=train_Features, \n",
    "                         y=train_Label, \n",
    "                         validation_split=0.1, \n",
    "                         epochs=30, \n",
    "                         batch_size=30,verbose=2)"
   ]
  },
  {
   "cell_type": "markdown",
   "metadata": {},
   "source": [
    "# 6. Print History"
   ]
  },
  {
   "cell_type": "code",
   "execution_count": 9,
   "metadata": {},
   "outputs": [
    {
     "data": {
      "image/png": "[encoded data removed]",
      "text/plain": [
       "<Figure size 432x288 with 1 Axes>"
      ]
     },
     "metadata": {
      "needs_background": "light"
     },
     "output_type": "display_data"
    }
   ],
   "source": [
    "import matplotlib.pyplot as plt\n",
    "def show_train_history(train_history,train,validation):\n",
    "    plt.plot(train_history.history[train])\n",
    "    plt.plot(train_history.history[validation])\n",
    "    plt.title('Train History')\n",
    "    plt.ylabel(train)\n",
    "    plt.xlabel('Epoch')\n",
    "    plt.legend(['train', 'validation'], loc='upper left')\n",
    "    plt.show()\n",
    "show_train_history(train_history,'acc','val_acc')"
   ]
  },
  {
   "cell_type": "code",
   "execution_count": 10,
   "metadata": {},
   "outputs": [
    {
     "data": {
      "image/png": "[encoded data removed]",
      "text/plain": [
       "<Figure size 432x288 with 1 Axes>"
      ]
     },
     "metadata": {
      "needs_background": "light"
     },
     "output_type": "display_data"
    }
   ],
   "source": [
    "show_train_history(train_history,'loss','val_loss')"
   ]
  },
  {
   "cell_type": "code",
   "execution_count": 11,
   "metadata": {},
   "outputs": [
    {
     "name": "stdout",
     "output_type": "stream",
     "text": [
      "275/275 [==============================] - 0s 43us/step\n",
      "0.803636364069852\n"
     ]
    }
   ],
   "source": [
    "scores = model.evaluate(x=test_Features, \n",
    "                        y=test_Label)\n",
    "print(scores[1])"
   ]
  },
  {
   "cell_type": "markdown",
   "metadata": {},
   "source": [
    "# 预测数据"
   ]
  },
  {
   "cell_type": "markdown",
   "metadata": {},
   "source": [
    "# 加入Jack & Rose数据"
   ]
  },
  {
   "cell_type": "code",
   "execution_count": 13,
   "metadata": {},
   "outputs": [],
   "source": [
    "#加入Jack & Rose数据,进行预测\n",
    "Jack = pd.Series([0 ,'Jack',3, 'male'  , 23, 1, 0,  5.0000,'S'])\n",
    "Rose = pd.Series([1 ,'Rose',1, 'female', 20, 1, 0, 100.0000,'S'])"
   ]
  },
  {
   "cell_type": "code",
   "execution_count": 14,
   "metadata": {},
   "outputs": [],
   "source": [
    "JR_df = pd.DataFrame([list(Jack),list(Rose)],  \n",
    "                  columns=['survived', 'name','pclass', 'sex', \n",
    "                   'age', 'sibsp','parch', 'fare','embarked'])"
   ]
  },
  {
   "cell_type": "code",
   "execution_count": 15,
   "metadata": {},
   "outputs": [],
   "source": [
    "all_df=pd.concat([all_df,JR_df])"
   ]
  },
  {
   "cell_type": "code",
   "execution_count": 16,
   "metadata": {},
   "outputs": [
    {
     "data": {
      "text/html": [
       "<div>\n",
       "<style scoped>\n",
       "    .dataframe tbody tr th:only-of-type {\n",
       "        vertical-align: middle;\n",
       "    }\n",
       "\n",
       "    .dataframe tbody tr th {\n",
       "        vertical-align: top;\n",
       "    }\n",
       "\n",
       "    .dataframe thead th {\n",
       "        text-align: right;\n",
       "    }\n",
       "</style>\n",
       "<table border=\"1\" class=\"dataframe\">\n",
       "  <thead>\n",
       "    <tr style=\"text-align: right;\">\n",
       "      <th></th>\n",
       "      <th>survived</th>\n",
       "      <th>name</th>\n",
       "      <th>pclass</th>\n",
       "      <th>sex</th>\n",
       "      <th>age</th>\n",
       "      <th>sibsp</th>\n",
       "      <th>parch</th>\n",
       "      <th>fare</th>\n",
       "      <th>embarked</th>\n",
       "    </tr>\n",
       "  </thead>\n",
       "  <tbody>\n",
       "    <tr>\n",
       "      <th>0</th>\n",
       "      <td>0</td>\n",
       "      <td>Jack</td>\n",
       "      <td>3</td>\n",
       "      <td>male</td>\n",
       "      <td>23.0</td>\n",
       "      <td>1</td>\n",
       "      <td>0</td>\n",
       "      <td>5.0</td>\n",
       "      <td>S</td>\n",
       "    </tr>\n",
       "    <tr>\n",
       "      <th>1</th>\n",
       "      <td>1</td>\n",
       "      <td>Rose</td>\n",
       "      <td>1</td>\n",
       "      <td>female</td>\n",
       "      <td>20.0</td>\n",
       "      <td>1</td>\n",
       "      <td>0</td>\n",
       "      <td>100.0</td>\n",
       "      <td>S</td>\n",
       "    </tr>\n",
       "  </tbody>\n",
       "</table>\n",
       "</div>"
      ],
      "text/plain": [
       "   survived  name  pclass     sex   age  sibsp  parch   fare embarked\n",
       "0         0  Jack       3    male  23.0      1      0    5.0        S\n",
       "1         1  Rose       1  female  20.0      1      0  100.0        S"
      ]
     },
     "execution_count": 16,
     "metadata": {},
     "output_type": "execute_result"
    }
   ],
   "source": [
    "all_df[-2:]"
   ]
  },
  {
   "cell_type": "markdown",
   "metadata": {},
   "source": [
    "# 进行预测"
   ]
  },
  {
   "cell_type": "code",
   "execution_count": 17,
   "metadata": {},
   "outputs": [],
   "source": [
    "all_Features,Label=PreprocessData(all_df)"
   ]
  },
  {
   "cell_type": "code",
   "execution_count": 18,
   "metadata": {},
   "outputs": [],
   "source": [
    "all_probability=model.predict(all_Features)"
   ]
  },
  {
   "cell_type": "code",
   "execution_count": 19,
   "metadata": {},
   "outputs": [
    {
     "data": {
      "text/plain": [
       "array([[0.9742587 ],\n",
       "       [0.6693111 ],\n",
       "       [0.9744076 ],\n",
       "       [0.39783973],\n",
       "       [0.9712522 ],\n",
       "       [0.26663923],\n",
       "       [0.94501126],\n",
       "       [0.3471673 ],\n",
       "       [0.9478666 ],\n",
       "       [0.25435448]], dtype=float32)"
      ]
     },
     "execution_count": 19,
     "metadata": {},
     "output_type": "execute_result"
    }
   ],
   "source": [
    "all_probability[:10]"
   ]
  },
  {
   "cell_type": "code",
   "execution_count": 20,
   "metadata": {},
   "outputs": [
    {
     "data": {
      "text/html": [
       "<div>\n",
       "<style scoped>\n",
       "    .dataframe tbody tr th:only-of-type {\n",
       "        vertical-align: middle;\n",
       "    }\n",
       "\n",
       "    .dataframe tbody tr th {\n",
       "        vertical-align: top;\n",
       "    }\n",
       "\n",
       "    .dataframe thead th {\n",
       "        text-align: right;\n",
       "    }\n",
       "</style>\n",
       "<table border=\"1\" class=\"dataframe\">\n",
       "  <thead>\n",
       "    <tr style=\"text-align: right;\">\n",
       "      <th></th>\n",
       "      <th>survived</th>\n",
       "      <th>name</th>\n",
       "      <th>pclass</th>\n",
       "      <th>sex</th>\n",
       "      <th>age</th>\n",
       "      <th>sibsp</th>\n",
       "      <th>parch</th>\n",
       "      <th>fare</th>\n",
       "      <th>embarked</th>\n",
       "      <th>probability</th>\n",
       "    </tr>\n",
       "  </thead>\n",
       "  <tbody>\n",
       "    <tr>\n",
       "      <th>0</th>\n",
       "      <td>0</td>\n",
       "      <td>Jack</td>\n",
       "      <td>3</td>\n",
       "      <td>male</td>\n",
       "      <td>23.0</td>\n",
       "      <td>1</td>\n",
       "      <td>0</td>\n",
       "      <td>5.0</td>\n",
       "      <td>S</td>\n",
       "      <td>0.153419</td>\n",
       "    </tr>\n",
       "    <tr>\n",
       "      <th>1</th>\n",
       "      <td>1</td>\n",
       "      <td>Rose</td>\n",
       "      <td>1</td>\n",
       "      <td>female</td>\n",
       "      <td>20.0</td>\n",
       "      <td>1</td>\n",
       "      <td>0</td>\n",
       "      <td>100.0</td>\n",
       "      <td>S</td>\n",
       "      <td>0.968450</td>\n",
       "    </tr>\n",
       "  </tbody>\n",
       "</table>\n",
       "</div>"
      ],
      "text/plain": [
       "   survived  name  pclass     sex   age  sibsp  parch   fare embarked  \\\n",
       "0         0  Jack       3    male  23.0      1      0    5.0        S   \n",
       "1         1  Rose       1  female  20.0      1      0  100.0        S   \n",
       "\n",
       "   probability  \n",
       "0     0.153419  \n",
       "1     0.968450  "
      ]
     },
     "execution_count": 20,
     "metadata": {},
     "output_type": "execute_result"
    }
   ],
   "source": [
    "pd=all_df\n",
    "pd.insert(len(all_df.columns),\n",
    "          'probability',all_probability)\n",
    "#查看Jack & Rose数据的生存几率\n",
    "pd[-2:]"
   ]
  },
  {
   "cell_type": "code",
   "execution_count": 21,
   "metadata": {},
   "outputs": [
    {
     "name": "stdout",
     "output_type": "stream",
     "text": [
      "     survived                                             name  pclass  \\\n",
      "2           0                     Allison, Miss. Helen Loraine       1   \n",
      "4           0  Allison, Mrs. Hudson J C (Bessie Waldo Daniels)       1   \n",
      "105         0                         Evans, Miss. Edith Corse       1   \n",
      "169         0                       Isham, Miss. Ann Elizabeth       1   \n",
      "286         0           Straus, Mrs. Isidor (Rosalie Ida Blun)       1   \n",
      "\n",
      "        sex   age  sibsp  parch      fare embarked  probability  \n",
      "2    female   2.0      1      2  151.5500        S     0.974408  \n",
      "4    female  25.0      1      2  151.5500        S     0.971252  \n",
      "105  female  36.0      0      0   31.6792        C     0.973590  \n",
      "169  female  50.0      0      0   28.7125        C     0.970012  \n",
      "286  female  63.0      1      0  221.7792        S     0.959433  \n"
     ]
    }
   ],
   "source": [
    "#查看生存几率高，却没有存活\n",
    "print(pd[(pd['survived']==0) &  (pd['probability']>0.9) ])"
   ]
  },
  {
   "cell_type": "code",
   "execution_count": 22,
   "metadata": {},
   "outputs": [
    {
     "name": "stdout",
     "output_type": "stream",
     "text": [
      "模型保存成功！，以后可以直接载入模型，不用再定义网络和编译模型！\n"
     ]
    }
   ],
   "source": [
    "try:\n",
    "    model.save('titanic_mlp_model.h5')\n",
    "    print('模型保存成功！，以后可以直接载入模型，不用再定义网络和编译模型！')\n",
    "except:\n",
    "    print('模型保存失败！')\n"
   ]
  },
  {
   "cell_type": "code",
   "execution_count": null,
   "metadata": {},
   "outputs": [],
   "source": []
  }
 ],
 "metadata": {
  "anaconda-cloud": {},
  "kernelspec": {
   "display_name": "Python 3",
   "language": "python",
   "name": "python3"
  },
  "language_info": {
   "codemirror_mode": {
    "name": "ipython",
    "version": 3
   },
   "file_extension": ".py",
   "mimetype": "text/x-python",
   "name": "python",
   "nbconvert_exporter": "python",
   "pygments_lexer": "ipython3",
   "version": "3.6.4"
  }
 },
 "nbformat": 4,
 "nbformat_minor": 1
}
