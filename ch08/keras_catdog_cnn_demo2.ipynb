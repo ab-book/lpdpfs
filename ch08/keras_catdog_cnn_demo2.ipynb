{
 "cells": [
  {
   "cell_type": "code",
   "execution_count": 2,
   "metadata": {},
   "outputs": [
    {
     "name": "stdout",
     "output_type": "stream",
     "text": [
      "total trainning cat images:  1500\n",
      "total trainning dog images:  1500\n",
      "total validation cat images:  500\n",
      "total validation dog images:  500\n"
     ]
    }
   ],
   "source": [
    "import os\n",
    "base_dir = 'cat-and-dog'\n",
    "#构造路径存储训练数据，校验数据以及测试数据\n",
    "train_dir = os.path.join(base_dir, 'training_set')\n",
    "os.makedirs(train_dir, exist_ok = True)\n",
    "validation_dir = os.path.join(base_dir, 'validation_set')\n",
    "os.makedirs(validation_dir, exist_ok = True)\n",
    "train_cats_dir = os.path.join(train_dir, 'cats')\n",
    "train_dogs_dir = os.path.join(train_dir, 'dogs')\n",
    "validation_cats_dir = os.path.join(validation_dir, 'cats')\n",
    "validation_dogs_dir = os.path.join(validation_dir, 'dogs')\n",
    "#我们来检查一下，看看每个分组（训练 / 验证 ）中分别包含多少张图像\n",
    "print('total trainning cat images: ', len(os.listdir(train_cats_dir)))\n",
    "print('total trainning dog images: ', len(os.listdir(train_dogs_dir)))\n",
    "print('total validation cat images: ', len(os.listdir(validation_cats_dir)))\n",
    "print('total validation dog images: ', len(os.listdir(validation_dogs_dir)))"
   ]
  },
  {
   "cell_type": "code",
   "execution_count": 3,
   "metadata": {},
   "outputs": [
    {
     "name": "stderr",
     "output_type": "stream",
     "text": [
      "Using TensorFlow backend.\n"
     ]
    },
    {
     "name": "stdout",
     "output_type": "stream",
     "text": [
      "_________________________________________________________________\n",
      "Layer (type)                 Output Shape              Param #   \n",
      "=================================================================\n",
      "conv2d_1 (Conv2D)            (None, 148, 148, 32)      896       \n",
      "_________________________________________________________________\n",
      "max_pooling2d_1 (MaxPooling2 (None, 74, 74, 32)        0         \n",
      "_________________________________________________________________\n",
      "conv2d_2 (Conv2D)            (None, 72, 72, 64)        18496     \n",
      "_________________________________________________________________\n",
      "max_pooling2d_2 (MaxPooling2 (None, 36, 36, 64)        0         \n",
      "_________________________________________________________________\n",
      "conv2d_3 (Conv2D)            (None, 34, 34, 128)       73856     \n",
      "_________________________________________________________________\n",
      "max_pooling2d_3 (MaxPooling2 (None, 17, 17, 128)       0         \n",
      "_________________________________________________________________\n",
      "conv2d_4 (Conv2D)            (None, 15, 15, 128)       147584    \n",
      "_________________________________________________________________\n",
      "max_pooling2d_4 (MaxPooling2 (None, 7, 7, 128)         0         \n",
      "_________________________________________________________________\n",
      "flatten_1 (Flatten)          (None, 6272)              0         \n",
      "_________________________________________________________________\n",
      "dropout_1 (Dropout)          (None, 6272)              0         \n",
      "_________________________________________________________________\n",
      "dense_1 (Dense)              (None, 512)               3211776   \n",
      "_________________________________________________________________\n",
      "dense_2 (Dense)              (None, 1)                 513       \n",
      "=================================================================\n",
      "Total params: 3,453,121\n",
      "Trainable params: 3,453,121\n",
      "Non-trainable params: 0\n",
      "_________________________________________________________________\n",
      "None\n"
     ]
    }
   ],
   "source": [
    "from keras import layers\n",
    "from keras import models\n",
    "model = models.Sequential()\n",
    "model.add(layers.Conv2D(32, (3, 3), activation='relu',\n",
    "                        input_shape=(150, 150, 3)))\n",
    "model.add(layers.MaxPooling2D((2, 2)))\n",
    "model.add(layers.Conv2D(64, (3, 3), activation='relu'))\n",
    "model.add(layers.MaxPooling2D((2, 2)))\n",
    "model.add(layers.Conv2D(128, (3, 3), activation='relu'))\n",
    "model.add(layers.MaxPooling2D((2, 2)))\n",
    "model.add(layers.Conv2D(128, (3, 3), activation='relu'))\n",
    "model.add(layers.MaxPooling2D((2, 2)))\n",
    "model.add(layers.Flatten())\n",
    "model.add(layers.Dropout(0.5))\n",
    "model.add(layers.Dense(512, activation='relu'))\n",
    "model.add(layers.Dense(1, activation='sigmoid'))\n",
    "print(model.summary())"
   ]
  },
  {
   "cell_type": "code",
   "execution_count": 4,
   "metadata": {},
   "outputs": [],
   "source": [
    "from keras import optimizers\n",
    "model.compile(loss='binary_crossentropy', optimizer=optimizers.RMSprop(lr=1e-4),\n",
    "             metrics=['acc'])"
   ]
  },
  {
   "cell_type": "code",
   "execution_count": 5,
   "metadata": {},
   "outputs": [
    {
     "name": "stdout",
     "output_type": "stream",
     "text": [
      "Found 3000 images belonging to 2 classes.\n",
      "Found 1000 images belonging to 2 classes.\n"
     ]
    }
   ],
   "source": [
    "from keras.preprocessing.image import ImageDataGenerator\n",
    "#使用数据增强，对 ImageDataGenerator实例读取的图像执行多次随机变换来实现\n",
    "train_datagen = ImageDataGenerator(\n",
    "    rescale=1./255,\n",
    "    rotation_range=40,\n",
    "    width_shift_range=0.2,\n",
    "    height_shift_range=0.2,\n",
    "    shear_range=0.2,\n",
    "    zoom_range=0.2,\n",
    "    horizontal_flip=True,)\n",
    "\n",
    "# Note that the validation data should not be augmented!（注意，不能增强验证数据）\n",
    "test_datagen = ImageDataGenerator(rescale = 1. / 255)\n",
    "#generator 实际上是将数据批量读入内存，使得代码能以for in 的方式去方便的访问\n",
    "# 使用flow_from_directory()方法可以实例化一个针对图像batch的生成器\n",
    "train_generator = train_datagen.flow_from_directory(\n",
    "    train_dir, target_size=(150, 150),#  # 将所有图像大小调整为150*150\n",
    "    batch_size=20,\n",
    "    class_mode = 'binary')#因为使用了binary_crossentropy损失，所以需要使用二进制标签\n",
    "validation_generator = test_datagen.flow_from_directory(\n",
    "    validation_dir,target_size = (150, 150),batch_size = 20,\n",
    "    class_mode = 'binary')"
   ]
  },
  {
   "cell_type": "code",
   "execution_count": 7,
   "metadata": {
    "scrolled": false
   },
   "outputs": [
    {
     "name": "stdout",
     "output_type": "stream",
     "text": [
      "Epoch 1/30\n",
      " - 484s - loss: 0.5662 - acc: 0.7080 - val_loss: 0.5209 - val_acc: 0.7310\n",
      "Epoch 2/30\n",
      " - 500s - loss: 0.5543 - acc: 0.7113 - val_loss: 0.5429 - val_acc: 0.7150\n",
      "Epoch 3/30\n",
      " - 465s - loss: 0.5554 - acc: 0.7120 - val_loss: 0.5032 - val_acc: 0.7460\n",
      "Epoch 4/30\n",
      " - 465s - loss: 0.5518 - acc: 0.7143 - val_loss: 0.5566 - val_acc: 0.7060\n",
      "Epoch 5/30\n",
      " - 476s - loss: 0.5471 - acc: 0.7250 - val_loss: 0.5684 - val_acc: 0.7190\n",
      "Epoch 6/30\n",
      " - 519s - loss: 0.5466 - acc: 0.7223 - val_loss: 0.5646 - val_acc: 0.7030\n",
      "Epoch 7/30\n",
      " - 539s - loss: 0.5357 - acc: 0.7320 - val_loss: 0.4818 - val_acc: 0.7590\n",
      "Epoch 8/30\n",
      " - 502s - loss: 0.5430 - acc: 0.7300 - val_loss: 0.5318 - val_acc: 0.7400\n",
      "Epoch 9/30\n",
      " - 472s - loss: 0.5330 - acc: 0.7293 - val_loss: 0.4820 - val_acc: 0.7680\n",
      "Epoch 10/30\n",
      " - 472s - loss: 0.5309 - acc: 0.7313 - val_loss: 0.4919 - val_acc: 0.7840\n",
      "Epoch 11/30\n",
      " - 485s - loss: 0.5245 - acc: 0.7247 - val_loss: 0.4912 - val_acc: 0.7630\n",
      "Epoch 12/30\n",
      " - 476s - loss: 0.5238 - acc: 0.7373 - val_loss: 0.4509 - val_acc: 0.7870\n",
      "Epoch 13/30\n",
      " - 470s - loss: 0.5236 - acc: 0.7443 - val_loss: 0.4639 - val_acc: 0.7640\n",
      "Epoch 14/30\n",
      " - 463s - loss: 0.5152 - acc: 0.7550 - val_loss: 0.4818 - val_acc: 0.7690\n",
      "Epoch 15/30\n",
      " - 463s - loss: 0.5249 - acc: 0.7400 - val_loss: 0.4557 - val_acc: 0.7940\n",
      "Epoch 16/30\n",
      " - 476s - loss: 0.5105 - acc: 0.7440 - val_loss: 0.4577 - val_acc: 0.7940\n",
      "Epoch 17/30\n",
      " - 473s - loss: 0.5131 - acc: 0.7437 - val_loss: 0.4411 - val_acc: 0.7940\n",
      "Epoch 18/30\n",
      " - 470s - loss: 0.5094 - acc: 0.7520 - val_loss: 0.4387 - val_acc: 0.7840\n",
      "Epoch 19/30\n",
      " - 466s - loss: 0.5031 - acc: 0.7480 - val_loss: 0.4511 - val_acc: 0.8080\n",
      "Epoch 20/30\n",
      " - 464s - loss: 0.5053 - acc: 0.7520 - val_loss: 0.4514 - val_acc: 0.7880\n",
      "Epoch 21/30\n",
      " - 497s - loss: 0.4959 - acc: 0.7553 - val_loss: 0.4305 - val_acc: 0.8110\n",
      "Epoch 22/30\n",
      " - 473s - loss: 0.4910 - acc: 0.7607 - val_loss: 0.4176 - val_acc: 0.8160\n",
      "Epoch 23/30\n",
      " - 467s - loss: 0.4832 - acc: 0.7647 - val_loss: 0.4234 - val_acc: 0.8140\n",
      "Epoch 24/30\n",
      " - 469s - loss: 0.4911 - acc: 0.7687 - val_loss: 0.4122 - val_acc: 0.8230\n",
      "Epoch 25/30\n",
      " - 492s - loss: 0.4898 - acc: 0.7633 - val_loss: 0.4306 - val_acc: 0.8070\n",
      "Epoch 26/30\n",
      " - 502s - loss: 0.4989 - acc: 0.7527 - val_loss: 0.4135 - val_acc: 0.8170\n",
      "Epoch 27/30\n",
      " - 544s - loss: 0.4908 - acc: 0.7647 - val_loss: 0.4203 - val_acc: 0.8150\n",
      "Epoch 28/30\n",
      " - 556s - loss: 0.4823 - acc: 0.7723 - val_loss: 0.4462 - val_acc: 0.7770\n",
      "Epoch 29/30\n",
      " - 548s - loss: 0.4808 - acc: 0.7737 - val_loss: 0.4339 - val_acc: 0.8130\n",
      "Epoch 30/30\n",
      " - 461s - loss: 0.4748 - acc: 0.7830 - val_loss: 0.4199 - val_acc: 0.7990\n"
     ]
    }
   ],
   "source": [
    "train_history = model.fit_generator(train_generator,\n",
    "                                    steps_per_epoch = 150,\n",
    "                                    epochs = 30, \n",
    "                                    validation_data = validation_generator,\n",
    "                                    verbose=2,\n",
    "                                    validation_steps = 100)"
   ]
  },
  {
   "cell_type": "code",
   "execution_count": 10,
   "metadata": {},
   "outputs": [
    {
     "name": "stdout",
     "output_type": "stream",
     "text": [
      "保存模型成功！\n"
     ]
    }
   ],
   "source": [
    "try:\n",
    "    model.save('cats_and_dogs_cnn2.h5')\n",
    "    print('保存模型成功！')\n",
    "except:\n",
    "    print('保存模型失败！')"
   ]
  },
  {
   "cell_type": "code",
   "execution_count": 11,
   "metadata": {},
   "outputs": [
    {
     "data": {
      "image/png": "[encoded data removed]",
      "text/plain": [
       "<Figure size 432x288 with 1 Axes>"
      ]
     },
     "metadata": {
      "needs_background": "light"
     },
     "output_type": "display_data"
    },
    {
     "data": {
      "image/png": "[encoded data removed]",
      "text/plain": [
       "<Figure size 432x288 with 1 Axes>"
      ]
     },
     "metadata": {
      "needs_background": "light"
     },
     "output_type": "display_data"
    }
   ],
   "source": [
    "import matplotlib.pyplot as plt\n",
    "acc = train_history.history['acc']\n",
    "val_acc = train_history.history['val_acc']\n",
    "loss = train_history.history['loss']\n",
    "val_loss = train_history.history['val_loss']\n",
    "epochs = range(1, len(acc) + 1)\n",
    "#绘制模型对训练数据和校验数据判断的准确率\n",
    "plt.plot(epochs, acc, 'bo', label = 'trainning acc')\n",
    "plt.plot(epochs, val_acc, 'b', label = 'validation acc')\n",
    "plt.title('Trainning and validation accuary')\n",
    "plt.legend()\n",
    "plt.show()\n",
    "plt.figure()\n",
    "#绘制模型对训练数据和校验数据判断的错误率\n",
    "plt.plot(epochs, loss, 'bo', label = 'Trainning loss')\n",
    "plt.plot(epochs, val_loss, 'b', label = 'Validation loss')\n",
    "plt.title('Trainning and validation loss')\n",
    "plt.legend()\n",
    "plt.show()"
   ]
  },
  {
   "cell_type": "code",
   "execution_count": null,
   "metadata": {},
   "outputs": [],
   "source": []
  }
 ],
 "metadata": {
  "kernelspec": {
   "display_name": "Python 3",
   "language": "python",
   "name": "python3"
  },
  "language_info": {
   "codemirror_mode": {
    "name": "ipython",
    "version": 3
   },
   "file_extension": ".py",
   "mimetype": "text/x-python",
   "name": "python",
   "nbconvert_exporter": "python",
   "pygments_lexer": "ipython3",
   "version": "3.6.4"
  }
 },
 "nbformat": 4,
 "nbformat_minor": 4
}
