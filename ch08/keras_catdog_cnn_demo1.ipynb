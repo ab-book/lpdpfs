{
 "cells": [
  {
   "cell_type": "code",
   "execution_count": 2,
   "metadata": {},
   "outputs": [
    {
     "name": "stdout",
     "output_type": "stream",
     "text": [
      "total trainning cat images:  1500\n",
      "total trainning dog images:  1500\n",
      "total validation cat images:  500\n",
      "total validation dog images:  500\n"
     ]
    }
   ],
   "source": [
    "import os\n",
    "base_dir = 'cat-and-dog'\n",
    "#构造路径存储训练数据，校验数据以及测试数据\n",
    "train_dir = os.path.join(base_dir, 'training_set')\n",
    "os.makedirs(train_dir, exist_ok = True)\n",
    "validation_dir = os.path.join(base_dir, 'validation_set')\n",
    "os.makedirs(validation_dir, exist_ok = True)\n",
    "train_cats_dir = os.path.join(train_dir, 'cats')\n",
    "train_dogs_dir = os.path.join(train_dir, 'dogs')\n",
    "validation_cats_dir = os.path.join(validation_dir, 'cats')\n",
    "validation_dogs_dir = os.path.join(validation_dir, 'dogs')\n",
    "#我们来检查一下，看看每个分组（训练 / 验证 ）中分别包含多少张图像\n",
    "print('total trainning cat images: ', len(os.listdir(train_cats_dir)))\n",
    "print('total trainning dog images: ', len(os.listdir(train_dogs_dir)))\n",
    "print('total validation cat images: ', len(os.listdir(validation_cats_dir)))\n",
    "print('total validation dog images: ', len(os.listdir(validation_dogs_dir)))"
   ]
  },
  {
   "cell_type": "code",
   "execution_count": 3,
   "metadata": {},
   "outputs": [
    {
     "name": "stderr",
     "output_type": "stream",
     "text": [
      "Using TensorFlow backend.\n"
     ]
    }
   ],
   "source": [
    "from keras import layers\n",
    "from keras import models\n",
    "model = models.Sequential()\n",
    "#输入图片大小是150*150 3表示图片像素用(R,G,B)表示\n",
    "model.add(layers.Conv2D(32, (3,3), activation='relu', input_shape=(150 , 150, 3)))\n",
    "model.add(layers.MaxPooling2D((2,2)))\n",
    "\n",
    "model.add(layers.Conv2D(64, (3,3), activation='relu'))\n",
    "model.add(layers.MaxPooling2D((2,2)))\n",
    "\n",
    "model.add(layers.Conv2D(128, (3,3), activation='relu'))\n",
    "model.add(layers.MaxPooling2D((2,2)))\n",
    "\n",
    "model.add(layers.Conv2D(128, (3,3), activation='relu'))\n",
    "model.add(layers.MaxPooling2D((2,2)))\n",
    "\n",
    "model.add(layers.Flatten())\n",
    "model.add(layers.Dense(512, activation='relu'))\n",
    "model.add(layers.Dense(1, activation='sigmoid'))"
   ]
  },
  {
   "cell_type": "code",
   "execution_count": 4,
   "metadata": {},
   "outputs": [
    {
     "name": "stdout",
     "output_type": "stream",
     "text": [
      "_________________________________________________________________\n",
      "Layer (type)                 Output Shape              Param #   \n",
      "=================================================================\n",
      "conv2d_1 (Conv2D)            (None, 148, 148, 32)      896       \n",
      "_________________________________________________________________\n",
      "max_pooling2d_1 (MaxPooling2 (None, 74, 74, 32)        0         \n",
      "_________________________________________________________________\n",
      "conv2d_2 (Conv2D)            (None, 72, 72, 64)        18496     \n",
      "_________________________________________________________________\n",
      "max_pooling2d_2 (MaxPooling2 (None, 36, 36, 64)        0         \n",
      "_________________________________________________________________\n",
      "conv2d_3 (Conv2D)            (None, 34, 34, 128)       73856     \n",
      "_________________________________________________________________\n",
      "max_pooling2d_3 (MaxPooling2 (None, 17, 17, 128)       0         \n",
      "_________________________________________________________________\n",
      "conv2d_4 (Conv2D)            (None, 15, 15, 128)       147584    \n",
      "_________________________________________________________________\n",
      "max_pooling2d_4 (MaxPooling2 (None, 7, 7, 128)         0         \n",
      "_________________________________________________________________\n",
      "flatten_1 (Flatten)          (None, 6272)              0         \n",
      "_________________________________________________________________\n",
      "dense_1 (Dense)              (None, 512)               3211776   \n",
      "_________________________________________________________________\n",
      "dense_2 (Dense)              (None, 1)                 513       \n",
      "=================================================================\n",
      "Total params: 3,453,121\n",
      "Trainable params: 3,453,121\n",
      "Non-trainable params: 0\n",
      "_________________________________________________________________\n",
      "None\n"
     ]
    }
   ],
   "source": [
    "print(model.summary())"
   ]
  },
  {
   "cell_type": "code",
   "execution_count": 4,
   "metadata": {},
   "outputs": [],
   "source": [
    "from keras import optimizers\n",
    "model.compile(loss='binary_crossentropy', optimizer=optimizers.RMSprop(lr=1e-4),\n",
    "             metrics=['acc'])"
   ]
  },
  {
   "cell_type": "code",
   "execution_count": 5,
   "metadata": {},
   "outputs": [
    {
     "name": "stdout",
     "output_type": "stream",
     "text": [
      "Found 3000 images belonging to 2 classes.\n",
      "Found 1000 images belonging to 2 classes.\n"
     ]
    }
   ],
   "source": [
    "from keras.preprocessing.image import ImageDataGenerator\n",
    "#把像素点的值除以255，使之在0到1之间\n",
    "train_datagen = ImageDataGenerator(rescale = 1./ 255)\n",
    "test_datagen = ImageDataGenerator(rescale = 1. / 255)\n",
    "#generator 实际上是将数据批量读入内存，使得代码能以for in 的方式去方便的访问\n",
    "# 使用flow_from_directory()方法可以实例化一个针对图像batch的生成器\n",
    "train_generator = train_datagen.flow_from_directory(\n",
    "    train_dir, target_size=(150, 150),#  # 将所有图像大小调整为150*150\n",
    "    batch_size=20,\n",
    "    class_mode = 'binary')#因为使用了binary_crossentropy损失，所以需要使用二进制标签\n",
    "validation_generator = test_datagen.flow_from_directory(\n",
    "    validation_dir,target_size = (150, 150),batch_size = 20,\n",
    "    class_mode = 'binary')"
   ]
  },
  {
   "cell_type": "code",
   "execution_count": 6,
   "metadata": {
    "scrolled": false
   },
   "outputs": [
    {
     "name": "stdout",
     "output_type": "stream",
     "text": [
      "Epoch 1/30\n",
      " - 492s - loss: 0.6898 - acc: 0.5470 - val_loss: 0.6718 - val_acc: 0.6240\n",
      "Epoch 2/30\n",
      " - 496s - loss: 0.6577 - acc: 0.6160 - val_loss: 0.6321 - val_acc: 0.6480\n",
      "Epoch 3/30\n",
      " - 480s - loss: 0.6160 - acc: 0.6507 - val_loss: 0.5908 - val_acc: 0.7000\n",
      "Epoch 4/30\n",
      " - 466s - loss: 0.5744 - acc: 0.6907 - val_loss: 0.5554 - val_acc: 0.7100\n",
      "Epoch 5/30\n",
      " - 463s - loss: 0.5344 - acc: 0.7270 - val_loss: 0.5309 - val_acc: 0.7400\n",
      "Epoch 6/30\n",
      " - 502s - loss: 0.4954 - acc: 0.7573 - val_loss: 0.5541 - val_acc: 0.7120\n",
      "Epoch 7/30\n",
      " - 525s - loss: 0.4756 - acc: 0.7713 - val_loss: 0.5011 - val_acc: 0.7700\n",
      "Epoch 8/30\n",
      " - 526s - loss: 0.4464 - acc: 0.7927 - val_loss: 0.4895 - val_acc: 0.7910\n",
      "Epoch 9/30\n",
      " - 487s - loss: 0.4172 - acc: 0.8080 - val_loss: 0.5310 - val_acc: 0.7500\n",
      "Epoch 10/30\n",
      " - 477s - loss: 0.3927 - acc: 0.8263 - val_loss: 0.5462 - val_acc: 0.7310\n",
      "Epoch 11/30\n",
      " - 465s - loss: 0.3636 - acc: 0.8350 - val_loss: 0.5642 - val_acc: 0.7310\n",
      "Epoch 12/30\n",
      " - 495s - loss: 0.3442 - acc: 0.8573 - val_loss: 0.4595 - val_acc: 0.8030\n",
      "Epoch 13/30\n",
      " - 463s - loss: 0.3178 - acc: 0.8647 - val_loss: 0.4710 - val_acc: 0.8010\n",
      "Epoch 14/30\n",
      " - 470s - loss: 0.2865 - acc: 0.8823 - val_loss: 0.5163 - val_acc: 0.8000\n",
      "Epoch 15/30\n",
      " - 464s - loss: 0.2666 - acc: 0.8910 - val_loss: 0.4260 - val_acc: 0.8220\n",
      "Epoch 16/30\n",
      " - 475s - loss: 0.2453 - acc: 0.9053 - val_loss: 0.4384 - val_acc: 0.8360\n",
      "Epoch 17/30\n",
      " - 469s - loss: 0.2059 - acc: 0.9170 - val_loss: 0.5607 - val_acc: 0.7700\n",
      "Epoch 18/30\n",
      " - 476s - loss: 0.1914 - acc: 0.9277 - val_loss: 0.4539 - val_acc: 0.8320\n",
      "Epoch 19/30\n",
      " - 466s - loss: 0.1632 - acc: 0.9390 - val_loss: 0.5326 - val_acc: 0.8070\n",
      "Epoch 20/30\n",
      " - 463s - loss: 0.1442 - acc: 0.9467 - val_loss: 0.9897 - val_acc: 0.6970\n",
      "Epoch 21/30\n",
      " - 481s - loss: 0.1206 - acc: 0.9543 - val_loss: 0.5666 - val_acc: 0.8190\n",
      "Epoch 22/30\n",
      " - 489s - loss: 0.1098 - acc: 0.9620 - val_loss: 0.5575 - val_acc: 0.8190\n",
      "Epoch 23/30\n",
      " - 467s - loss: 0.0863 - acc: 0.9743 - val_loss: 0.5466 - val_acc: 0.8330\n",
      "Epoch 24/30\n",
      " - 467s - loss: 0.0839 - acc: 0.9707 - val_loss: 0.5636 - val_acc: 0.8330\n",
      "Epoch 25/30\n",
      " - 483s - loss: 0.0644 - acc: 0.9793 - val_loss: 0.6034 - val_acc: 0.8290\n",
      "Epoch 26/30\n",
      " - 498s - loss: 0.0556 - acc: 0.9823 - val_loss: 0.6696 - val_acc: 0.8240\n",
      "Epoch 27/30\n",
      " - 520s - loss: 0.0496 - acc: 0.9857 - val_loss: 0.7360 - val_acc: 0.8120\n",
      "Epoch 28/30\n",
      " - 569s - loss: 0.0452 - acc: 0.9857 - val_loss: 0.7220 - val_acc: 0.8300\n",
      "Epoch 29/30\n",
      " - 553s - loss: 0.0336 - acc: 0.9913 - val_loss: 0.8264 - val_acc: 0.8040\n",
      "Epoch 30/30\n",
      " - 557s - loss: 0.0325 - acc: 0.9907 - val_loss: 0.7702 - val_acc: 0.8250\n"
     ]
    }
   ],
   "source": [
    "train_history = model.fit_generator(train_generator, steps_per_epoch = 150,\n",
    "                             epochs = 30, validation_data = validation_generator,\n",
    "                                    verbose=2,validation_steps = 100)"
   ]
  },
  {
   "cell_type": "code",
   "execution_count": 7,
   "metadata": {},
   "outputs": [
    {
     "name": "stdout",
     "output_type": "stream",
     "text": [
      "保存模型成功！\n"
     ]
    }
   ],
   "source": [
    "try:\n",
    "    model.save('cats_and_dogs_cnn.h5')\n",
    "    print('保存模型成功！')\n",
    "except:\n",
    "    print('保存模型失败！')"
   ]
  },
  {
   "cell_type": "code",
   "execution_count": 9,
   "metadata": {},
   "outputs": [
    {
     "data": {
      "image/png": "[encoded data removed]",
      "text/plain": [
       "<Figure size 432x288 with 1 Axes>"
      ]
     },
     "metadata": {
      "needs_background": "light"
     },
     "output_type": "display_data"
    },
    {
     "data": {
      "image/png": "[encoded data removed]",
      "text/plain": [
       "<Figure size 432x288 with 1 Axes>"
      ]
     },
     "metadata": {
      "needs_background": "light"
     },
     "output_type": "display_data"
    }
   ],
   "source": [
    "import matplotlib.pyplot as plt\n",
    "acc = train_history.history['acc']\n",
    "val_acc = train_history.history['val_acc']\n",
    "loss = train_history.history['loss']\n",
    "val_loss = train_history.history['val_loss']\n",
    "epochs = range(1, len(acc) + 1)\n",
    "#绘制模型对训练数据和校验数据判断的准确率\n",
    "plt.plot(epochs, acc, 'bo', label = 'trainning acc')\n",
    "plt.plot(epochs, val_acc, 'b', label = 'validation acc')\n",
    "plt.title('Trainning and validation accuary')\n",
    "plt.legend()\n",
    "plt.show()\n",
    "plt.figure()\n",
    "#绘制模型对训练数据和校验数据判断的错误率\n",
    "plt.plot(epochs, loss, 'bo', label = 'Trainning loss')\n",
    "plt.plot(epochs, val_loss, 'b', label = 'Validation loss')\n",
    "plt.title('Trainning and validation loss')\n",
    "plt.legend()\n",
    "plt.show()"
   ]
  },
  {
   "cell_type": "code",
   "execution_count": null,
   "metadata": {},
   "outputs": [],
   "source": []
  }
 ],
 "metadata": {
  "kernelspec": {
   "display_name": "Python 3",
   "language": "python",
   "name": "python3"
  },
  "language_info": {
   "codemirror_mode": {
    "name": "ipython",
    "version": 3
   },
   "file_extension": ".py",
   "mimetype": "text/x-python",
   "name": "python",
   "nbconvert_exporter": "python",
   "pygments_lexer": "ipython3",
   "version": "3.6.4"
  }
 },
 "nbformat": 4,
 "nbformat_minor": 4
}
