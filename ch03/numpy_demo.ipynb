{
 "cells": [
  {
   "cell_type": "code",
   "execution_count": 1,
   "metadata": {},
   "outputs": [
    {
     "name": "stdout",
     "output_type": "stream",
     "text": [
      "a的shape是：\n",
      "(4,)\n",
      "b的shape是：\n",
      "(3, 2)\n"
     ]
    }
   ],
   "source": [
    "import numpy as np\n",
    "a = np.array([1,2,3,3])\n",
    "print('a的shape是：')\n",
    "print(a.shape)\n",
    "b = np.array([[1,1],[1,1],[1,1]])\n",
    "print('b的shape是：')\n",
    "print(b.shape)\n"
   ]
  },
  {
   "cell_type": "code",
   "execution_count": 5,
   "metadata": {},
   "outputs": [
    {
     "name": "stdout",
     "output_type": "stream",
     "text": [
      "[81, 65, 53, 45, 41]\n",
      "[81 65 53 45 41]\n"
     ]
    }
   ],
   "source": [
    "def pysum():\n",
    "    a = [0, 1, 2, 3, 4,]\n",
    "    b = [9, 8, 7, 6, 5,]\n",
    "    c = []\n",
    "    for i in range(len(a)):\n",
    "        c.append(a[i]**2 + b[i]**2)\n",
    "    return c\n",
    "print(pysum())\n",
    "########################################\n",
    "import numpy as np\n",
    "def npsum():\n",
    "    a = np.array([0, 1, 2, 3, 4,])\n",
    "    b = np.array([9, 8, 7, 6, 5,])\n",
    "    c = a**2 + b**2\n",
    "    return c\n",
    "print(npsum())"
   ]
  },
  {
   "cell_type": "code",
   "execution_count": 8,
   "metadata": {},
   "outputs": [
    {
     "name": "stdout",
     "output_type": "stream",
     "text": [
      "[1, 2, 3, 4]\n",
      "[1 2 3 4]\n",
      "[1, 2, 3, 4, 1, 2, 3, 4]\n",
      "[2 4 6 8]\n",
      "[[1, 2], [3, 4], [5, 6]]\n",
      "[[1 2]\n",
      " [3 4]\n",
      " [5 6]]\n"
     ]
    }
   ],
   "source": [
    "import numpy as np\n",
    "a=[1,2,3,4]\n",
    "b=np.array([1,2,3,4])\n",
    "print(a)\n",
    "print(b)\n",
    "c=a*2\n",
    "d=b*2\n",
    "print(c)\n",
    "print(d)\n",
    "e=[[1,2],[3,4],[5,6]]\n",
    "f=np.array([[1,2],[3,4],[5,6]])\n",
    "print(e)\n",
    "print(f)"
   ]
  },
  {
   "cell_type": "code",
   "execution_count": 9,
   "metadata": {},
   "outputs": [
    {
     "name": "stdout",
     "output_type": "stream",
     "text": [
      "[[1 2]\n",
      " [3 4]\n",
      " [5 6]]\n",
      "[3.14 2.17 0.   1.   2.  ]\n"
     ]
    }
   ],
   "source": [
    "import numpy as np\n",
    "a1=np.array([1,2,3,4])\n",
    "lst1=[3.14,2.17,0,1,2]\n",
    "a2=np.array([[1,2],[3,4],[5,6]])\n",
    "a3=np.array(lst1)\n",
    "print(a2)\n",
    "print(a3)"
   ]
  },
  {
   "cell_type": "code",
   "execution_count": 12,
   "metadata": {},
   "outputs": [
    {
     "name": "stdout",
     "output_type": "stream",
     "text": [
      "[ 0  1  2  3  4  5  6  7  8  9 10 11]\n",
      "[5 6 7 8 9]\n",
      "[[-1.56233759  0.8746619  -0.15799036]\n",
      " [-0.56180239 -0.61494341 -0.69827126]\n",
      " [-0.66539546  1.16099223 -1.41587553]]\n",
      "[[0.24024003 0.79538857 0.27694957]\n",
      " [0.64205338 0.12071625 0.10342665]\n",
      " [0.87571911 0.61208231 0.64015831]]\n",
      "[[1. 1. 1. 1.]\n",
      " [1. 1. 1. 1.]]\n",
      "[[0. 0. 0. 0.]\n",
      " [0. 0. 0. 0.]\n",
      " [0. 0. 0. 0.]]\n",
      "[2 5 8]\n"
     ]
    }
   ],
   "source": [
    "x1=np.arange(12)\n",
    "x2=np.arange(5,10)\n",
    "x3=np.random.randn(3,3)\n",
    "x4=np.random.random([3,3])\n",
    "x5=np.ones((2,4))\n",
    "x6=np.zeros((3,4))\n",
    "x7=np.linspace(2,8,3,dtype=np.int32)\n",
    "print(x1)\n",
    "print(x2)\n",
    "print(x3)\n",
    "print(x4)\n",
    "print(x5)\n",
    "print(x6)\n",
    "print(x7)"
   ]
  },
  {
   "cell_type": "code",
   "execution_count": 6,
   "metadata": {},
   "outputs": [
    {
     "name": "stdout",
     "output_type": "stream",
     "text": [
      "a:\n",
      " [[1 2 3]\n",
      " [4 5 6]]\n",
      "b:\n",
      " [[ 6  7  8]\n",
      " [ 9 10 11]]\n",
      "a+b:\n",
      " [[ 7  9 11]\n",
      " [13 15 17]]\n",
      "a-b:\n",
      " [[-5 -5 -5]\n",
      " [-5 -5 -5]]\n",
      "a*b:\n",
      " [[ 6 14 24]\n",
      " [36 50 66]]\n",
      "b/a:\n",
      " [[6.         3.5        2.66666667]\n",
      " [2.25       2.         1.83333333]]\n"
     ]
    }
   ],
   "source": [
    "import numpy as np\n",
    "a = np.arange(1,7).reshape((2,3))\n",
    "b = np.array([[6,7,8],[9,10,11]])\n",
    "print(\"a:\\n\",a)\n",
    "print(\"b:\\n\",b)\n",
    "#数组加法\n",
    "print(\"a+b:\\n\",a+b)\n",
    "#数组减法\n",
    "print(\"a-b:\\n\",a-b)\n",
    "#数组乘法\n",
    "print(\"a*b:\\n\",a*b)\n",
    "#数组除法\n",
    "print(\"b/a:\\n\",b/a)"
   ]
  },
  {
   "cell_type": "code",
   "execution_count": 2,
   "metadata": {},
   "outputs": [
    {
     "name": "stdout",
     "output_type": "stream",
     "text": [
      "arr: [0 1 2 3 4 5 6 7 8 9]\n",
      "arr+1: [ 1  2  3  4  5  6  7  8  9 10]\n",
      "arr-2: [-2 -1  0  1  2  3  4  5  6  7]\n",
      "arr*3 [ 0  3  6  9 12 15 18 21 24 27]\n",
      "arr/2 [0.  0.5 1.  1.5 2.  2.5 3.  3.5 4.  4.5]\n"
     ]
    }
   ],
   "source": [
    "import numpy as np\n",
    "arr = np.arange(10)\n",
    "print(\"arr:\",arr)\n",
    "#数组与常数之间的运算\n",
    "#求加法\n",
    "print(\"arr+1:\",arr+1)\n",
    "#求减法\n",
    "print(\"arr-2:\",arr-2)\n",
    "#求乘法\n",
    "print(\"arr*3\",arr*3)\n",
    "#求除法\n",
    "print(\"arr/2\",arr/2)"
   ]
  },
  {
   "cell_type": "code",
   "execution_count": 10,
   "metadata": {},
   "outputs": [
    {
     "name": "stdout",
     "output_type": "stream",
     "text": [
      "a:\n",
      " [[1 2 3]\n",
      " [4 5 6]]\n",
      "b: [0 1 2]\n",
      "a.shape: (2, 3)\n",
      "b.shape: (3,)\n",
      "a+b:\n",
      " [[1 3 5]\n",
      " [4 6 8]]\n",
      "a-b:\n",
      " [[1 1 1]\n",
      " [4 4 4]]\n",
      "a*b:\n",
      " [[ 0  2  6]\n",
      " [ 0  5 12]]\n"
     ]
    }
   ],
   "source": [
    "import numpy as np\n",
    "a = np.arange(1,7).reshape((2,3))\n",
    "print(\"a:\\n\",a)\n",
    "b = np.arange(3)\n",
    "print(\"b:\",b)\n",
    "print(\"a.shape:\",a.shape)\n",
    "print(\"b.shape:\",b.shape)\n",
    "print(\"a+b:\\n\",a+b)\n",
    "print(\"a-b:\\n\",a-b)\n",
    "print(\"a*b:\\n\",a*b)"
   ]
  },
  {
   "cell_type": "code",
   "execution_count": 8,
   "metadata": {},
   "outputs": [
    {
     "name": "stdout",
     "output_type": "stream",
     "text": [
      "a:\n",
      " [[ 1  2  3]\n",
      " [ 4  5  6]\n",
      " [ 7  8  9]\n",
      " [10 11 12]]\n",
      "b:\n",
      " [[1]\n",
      " [2]\n",
      " [3]\n",
      " [4]]\n",
      "a.shape: (4, 3)\n",
      "b.shape: (4, 1)\n",
      "a+b:\n",
      " [[ 2  3  4]\n",
      " [ 6  7  8]\n",
      " [10 11 12]\n",
      " [14 15 16]]\n"
     ]
    }
   ],
   "source": [
    "import numpy as np\n",
    "a = np.arange(1,13).reshape((4,3))\n",
    "b = np.arange(1,5).reshape((4,1))\n",
    "print(\"a:\\n\",a)\n",
    "print(\"b:\\n\",b)\n",
    "print(\"a.shape:\",a.shape)\n",
    "print(\"b.shape:\",b.shape)\n",
    "print(\"a+b:\\n\",a+b)"
   ]
  },
  {
   "cell_type": "code",
   "execution_count": 9,
   "metadata": {},
   "outputs": [
    {
     "name": "stdout",
     "output_type": "stream",
     "text": [
      "a:\n",
      " [[ 1  2  3]\n",
      " [ 4  5  6]\n",
      " [ 7  8  9]\n",
      " [10 11 12]]\n",
      "b:\n",
      " [[1 2 3]\n",
      " [4 5 6]]\n",
      "a.shape: (4, 3)\n",
      "b.shape: (2, 3)\n"
     ]
    },
    {
     "ename": "ValueError",
     "evalue": "operands could not be broadcast together with shapes (4,3) (2,3) ",
     "output_type": "error",
     "traceback": [
      "\u001b[1;31m---------------------------------------------------------------------------\u001b[0m",
      "\u001b[1;31mValueError\u001b[0m                                Traceback (most recent call last)",
      "\u001b[1;32m<ipython-input-9-8b16fd3c09a0>\u001b[0m in \u001b[0;36m<module>\u001b[1;34m\u001b[0m\n\u001b[0;32m      6\u001b[0m \u001b[0mprint\u001b[0m\u001b[1;33m(\u001b[0m\u001b[1;34m\"a.shape:\"\u001b[0m\u001b[1;33m,\u001b[0m\u001b[0ma\u001b[0m\u001b[1;33m.\u001b[0m\u001b[0mshape\u001b[0m\u001b[1;33m)\u001b[0m\u001b[1;33m\u001b[0m\u001b[0m\n\u001b[0;32m      7\u001b[0m \u001b[0mprint\u001b[0m\u001b[1;33m(\u001b[0m\u001b[1;34m\"b.shape:\"\u001b[0m\u001b[1;33m,\u001b[0m\u001b[0mb\u001b[0m\u001b[1;33m.\u001b[0m\u001b[0mshape\u001b[0m\u001b[1;33m)\u001b[0m\u001b[1;33m\u001b[0m\u001b[0m\n\u001b[1;32m----> 8\u001b[1;33m \u001b[0mprint\u001b[0m\u001b[1;33m(\u001b[0m\u001b[1;34m\"a+b:\\n\"\u001b[0m\u001b[1;33m,\u001b[0m\u001b[0ma\u001b[0m\u001b[1;33m+\u001b[0m\u001b[0mb\u001b[0m\u001b[1;33m)\u001b[0m\u001b[1;33m\u001b[0m\u001b[0m\n\u001b[0m",
      "\u001b[1;31mValueError\u001b[0m: operands could not be broadcast together with shapes (4,3) (2,3) "
     ]
    }
   ],
   "source": [
    "import numpy as np\n",
    "a = np.arange(1,13).reshape((4,3))\n",
    "b = np.arange(1,7).reshape((2,3))\n",
    "print(\"a:\\n\",a)\n",
    "print(\"b:\\n\",b)\n",
    "print(\"a.shape:\",a.shape)\n",
    "print(\"b.shape:\",b.shape)\n",
    "print(\"a+b:\\n\",a+b)"
   ]
  },
  {
   "cell_type": "code",
   "execution_count": 11,
   "metadata": {},
   "outputs": [
    {
     "name": "stdout",
     "output_type": "stream",
     "text": [
      "[[1 2 3]\n",
      " [4 5 6]\n",
      " [7 8 9]]\n"
     ]
    }
   ],
   "source": [
    "import numpy as np\n",
    "a = np.arange(1,10).reshape((3,3))\n",
    "print(a)"
   ]
  },
  {
   "cell_type": "code",
   "execution_count": 12,
   "metadata": {},
   "outputs": [
    {
     "name": "stdout",
     "output_type": "stream",
     "text": [
      "[1 2 3]\n",
      "[[1 2 3]]\n",
      "[[1]\n",
      " [2]\n",
      " [3]]\n"
     ]
    }
   ],
   "source": [
    "import numpy as np\n",
    "x = np.array([1,2,3])\n",
    "y=x [ np.newaxis , : ]   #变成二维的行向量\n",
    "z=x[ : , np.newaxis ]   #变成二维的列向量\n",
    "print(x)\n",
    "print(y)\n",
    "print(z)"
   ]
  },
  {
   "cell_type": "code",
   "execution_count": null,
   "metadata": {},
   "outputs": [],
   "source": []
  }
 ],
 "metadata": {
  "kernelspec": {
   "display_name": "Python 3",
   "language": "python",
   "name": "python3"
  },
  "language_info": {
   "codemirror_mode": {
    "name": "ipython",
    "version": 3
   },
   "file_extension": ".py",
   "mimetype": "text/x-python",
   "name": "python",
   "nbconvert_exporter": "python",
   "pygments_lexer": "ipython3",
   "version": "3.6.4"
  }
 },
 "nbformat": 4,
 "nbformat_minor": 2
}
