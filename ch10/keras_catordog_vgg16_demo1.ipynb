{
 "cells": [
  {
   "cell_type": "markdown",
   "metadata": {
    "scrolled": true
   },
   "source": [
    "# 将VGG16卷积基实例化\n",
    "from keras.applications import VGG16\n",
    "conv_base = VGG16(weights='imagenet', include_top=False, input_shape=(150, 150, 3))\n",
    "print(conv_base.summary())"
   ]
  },
  {
   "cell_type": "markdown",
   "metadata": {},
   "source": [
    "# 冻结预训练网络前15层\n",
    "for layer in conv_base.layers[:15]:\n",
    "    layer.trainable = False"
   ]
  },
  {
   "cell_type": "markdown",
   "metadata": {},
   "source": [
    "from keras import models\n",
    "from keras import layers\n",
    "from keras.layers import Dropout\n",
    "model = models.Sequential()\n",
    "model.add(conv_base)\n",
    "model.add(layers.Flatten())\n",
    "model.add(layers.Dense(256, activation='relu'))\n",
    "model.add(Dropout(0.5))  # Dropout概率0.5\n",
    "model.add(layers.Dense(1, activation='sigmoid'))\n",
    "print(model.summary())"
   ]
  },
  {
   "cell_type": "code",
   "execution_count": 5,
   "metadata": {},
   "outputs": [
    {
     "name": "stdout",
     "output_type": "stream",
     "text": [
      "Found 3000 images belonging to 2 classes.\n",
      "Found 1000 images belonging to 2 classes.\n"
     ]
    }
   ],
   "source": [
    "import os\n",
    "base_dir = 'cat-and-dog'\n",
    "#构造路径存储训练数据，校验数据\n",
    "train_dir = os.path.join(base_dir, 'training_set')\n",
    "validation_dir = os.path.join(base_dir, 'validation_set')\n",
    "train_cats_dir = os.path.join(train_dir, 'cats')\n",
    "train_dogs_dir = os.path.join(train_dir, 'dogs')\n",
    "validation_cats_dir = os.path.join(validation_dir, 'cats')\n",
    "validation_dogs_dir = os.path.join(validation_dir, 'dogs')\n",
    "from keras import optimizers\n",
    "from keras.preprocessing.image import ImageDataGenerator\n",
    "train_datagen = ImageDataGenerator(rescale = 1./ 255) \n",
    "#把像素点的值除以255，使之在0到1之间\n",
    "test_datagen = ImageDataGenerator(rescale = 1. / 255)\n",
    "#generator 实际上是将数据批量读入内存\n",
    "train_generator = train_datagen.flow_from_directory(train_dir, target_size=(150, 150),\n",
    "                                                   batch_size=20,\n",
    "                                                    class_mode = 'binary')\n",
    "validation_generator = test_datagen.flow_from_directory(validation_dir,\n",
    "                                                        target_size = (150, 150),\n",
    "                                                       batch_size = 20,\n",
    "                                                       class_mode = 'binary')"
   ]
  },
  {
   "cell_type": "code",
   "execution_count": 6,
   "metadata": {},
   "outputs": [
    {
     "name": "stdout",
     "output_type": "stream",
     "text": [
      "Epoch 1/12\n",
      " - 1871s - loss: 0.3889 - acc: 0.8190 - val_loss: 0.2431 - val_acc: 0.8930\n",
      "Epoch 2/12\n",
      " - 1967s - loss: 0.2118 - acc: 0.9137 - val_loss: 0.1864 - val_acc: 0.9210\n",
      "Epoch 3/12\n",
      " - 2033s - loss: 0.1393 - acc: 0.9407 - val_loss: 0.2431 - val_acc: 0.9020\n",
      "Epoch 4/12\n",
      " - 1723s - loss: 0.1025 - acc: 0.9583 - val_loss: 0.1671 - val_acc: 0.9460\n",
      "Epoch 5/12\n",
      " - 1690s - loss: 0.0684 - acc: 0.9780 - val_loss: 0.1570 - val_acc: 0.9540\n",
      "Epoch 6/12\n",
      " - 1695s - loss: 0.0524 - acc: 0.9830 - val_loss: 0.2226 - val_acc: 0.9320\n",
      "Epoch 7/12\n",
      " - 1699s - loss: 0.0331 - acc: 0.9890 - val_loss: 0.2187 - val_acc: 0.9370\n",
      "Epoch 8/12\n",
      " - 1679s - loss: 0.0220 - acc: 0.9913 - val_loss: 0.2081 - val_acc: 0.9440\n",
      "Epoch 9/12\n",
      " - 1675s - loss: 0.0151 - acc: 0.9947 - val_loss: 0.1925 - val_acc: 0.9490\n",
      "Epoch 10/12\n",
      " - 1667s - loss: 0.0199 - acc: 0.9943 - val_loss: 0.2249 - val_acc: 0.9480\n",
      "Epoch 11/12\n",
      " - 1669s - loss: 0.0110 - acc: 0.9967 - val_loss: 0.2709 - val_acc: 0.9400\n",
      "Epoch 12/12\n",
      " - 1663s - loss: 0.0079 - acc: 0.9977 - val_loss: 0.4189 - val_acc: 0.9160\n"
     ]
    }
   ],
   "source": [
    "model.compile(optimizer=optimizers.RMSprop(lr = 2e-5), \n",
    "              loss = 'binary_crossentropy',metrics = ['acc'])\n",
    "history=model.fit_generator(train_generator, epochs=12,steps_per_epoch = 150,\n",
    "                    validation_data=validation_generator, \n",
    "                            validation_steps=50,verbose=2)"
   ]
  },
  {
   "cell_type": "code",
   "execution_count": 8,
   "metadata": {},
   "outputs": [
    {
     "data": {
      "image/png": "[encoded data removed]",
      "text/plain": [
       "<Figure size 432x288 with 1 Axes>"
      ]
     },
     "metadata": {
      "needs_background": "light"
     },
     "output_type": "display_data"
    },
    {
     "data": {
      "image/png": "[encoded data removed]",
      "text/plain": [
       "<Figure size 432x288 with 1 Axes>"
      ]
     },
     "metadata": {
      "needs_background": "light"
     },
     "output_type": "display_data"
    }
   ],
   "source": [
    "#获取训练结果，如训练数据的准确率，校验数据的准确率等\n",
    "import matplotlib.pyplot as plt\n",
    "acc = history.history['acc']\n",
    "val_acc = history.history['val_acc']\n",
    "loss = history.history['loss']\n",
    "val_loss = history.history['val_loss']\n",
    "epochs = range(1, len(acc) + 1)\n",
    "#绘制模型对训练数据和校验数据判断的准确率\n",
    "plt.plot(epochs, acc, 'bo', label = 'trainning acc')\n",
    "plt.plot(epochs, val_acc, 'b', label = 'validation acc')\n",
    "plt.title('Trainning and validation accuary')\n",
    "plt.legend()\n",
    "plt.show()\n",
    "plt.figure()\n",
    "#绘制模型对训练数据和校验数据判断的错误率\n",
    "plt.plot(epochs, loss, 'bo', label = 'Trainning loss')\n",
    "plt.plot(epochs, val_loss, 'b', label = 'Validation loss')\n",
    "plt.title('Trainning and validation loss')\n",
    "plt.legend()\n",
    "plt.show()"
   ]
  },
  {
   "cell_type": "code",
   "execution_count": null,
   "metadata": {},
   "outputs": [],
   "source": []
  }
 ],
 "metadata": {
  "kernelspec": {
   "display_name": "Python 3",
   "language": "python",
   "name": "python3"
  },
  "language_info": {
   "codemirror_mode": {
    "name": "ipython",
    "version": 3
   },
   "file_extension": ".py",
   "mimetype": "text/x-python",
   "name": "python",
   "nbconvert_exporter": "python",
   "pygments_lexer": "ipython3",
   "version": "3.6.4"
  }
 },
 "nbformat": 4,
 "nbformat_minor": 4
}
